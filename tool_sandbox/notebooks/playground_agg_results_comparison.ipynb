{
 "cells": [
  {
   "cell_type": "markdown",
   "metadata": {},
   "source": [
    "## Notebook for comparing tool sandbox runs"
   ]
  },
  {
   "cell_type": "code",
   "execution_count": null,
   "metadata": {},
   "outputs": [],
   "source": [
    "%load_ext autoreload\n",
    "%autoreload 2"
   ]
  },
  {
   "cell_type": "code",
   "execution_count": null,
   "metadata": {},
   "outputs": [],
   "source": [
    "import pathlib\n",
    "\n",
    "import polars as pl\n",
    "import seaborn as sns\n",
    "\n",
    "from tool_sandbox.analysis.analysis import extract_aggregated_stats, extract_meta_stats\n",
    "from tool_sandbox.analysis.data_loading import (\n",
    "    extract_scenario_results,\n",
    "    load_result_summary,\n",
    ")"
   ]
  },
  {
   "cell_type": "code",
   "execution_count": null,
   "metadata": {},
   "outputs": [],
   "source": [
    "name_to_results_summary_path = {\n",
    "    \"baseline\": pathlib.Path(\n",
    "        \"/path/to/your/result_summary.json\"\n",
    "    ),\n",
    "    \"with_some_change\": pathlib.Path(\n",
    "        \"/path/to/your/other/result_summary.json\"\n",
    "    ),\n",
    "}\n",
    "\n",
    "name_to_results = {\n",
    "    name: load_result_summary(results_path)\n",
    "    for name, results_path in name_to_results_summary_path.items()\n",
    "}\n",
    "print(\"Loaded results for these experiments:\\n\", sorted(name_to_results.keys()))"
   ]
  },
  {
   "cell_type": "markdown",
   "metadata": {},
   "source": [
    "### Extract per scenario results"
   ]
  },
  {
   "cell_type": "code",
   "execution_count": null,
   "metadata": {},
   "outputs": [],
   "source": [
    "name_to_scenario_results = {\n",
    "    name: extract_scenario_results(results) for name, results in name_to_results.items()\n",
    "}\n",
    "\n",
    "# Add a new column for the experiment name and then concatenate the data frames. This\n",
    "# makes it easy to compare the experiments as tables or in plots. Note that we use\n",
    "# `select` instead of `with_new_columns` since we want to ensure that the experiment\n",
    "# name becomes the first column.\n",
    "all_experiments_scenario_results_all_columns_df = pl.concat(\n",
    "    (\n",
    "        df.select([pl.lit(name).alias(\"experiment\"), pl.all()])\n",
    "        for name, df in name_to_scenario_results.items()\n",
    "    ),\n",
    "    how=\"vertical_relaxed\",  # < to handle mix of null and string values for exceptions\n",
    ")\n",
    "all_experiments_scenario_results_all_columns_df"
   ]
  },
  {
   "cell_type": "code",
   "execution_count": null,
   "metadata": {},
   "outputs": [],
   "source": [
    "# We exclude the categories, milestone and minefield mappings as they cannot be\n",
    "# converted to a pandas dataframe.\n",
    "all_experiments_scenario_results_df = (\n",
    "    all_experiments_scenario_results_all_columns_df.select(\n",
    "        pl.exclude(\n",
    "            [\"categories\", \"traceback\", \"milestone_mapping\", \"minefield_mapping\"]\n",
    "        )\n",
    "    )\n",
    ")"
   ]
  },
  {
   "cell_type": "code",
   "execution_count": null,
   "metadata": {},
   "outputs": [],
   "source": [
    "sns.histplot(\n",
    "    all_experiments_scenario_results_df,\n",
    "    x=\"turn_count\",\n",
    "    hue=\"experiment\",\n",
    "    bins=30,\n",
    ")"
   ]
  },
  {
   "cell_type": "code",
   "execution_count": null,
   "metadata": {},
   "outputs": [],
   "source": [
    "# We exclude the categories and milestone mappings as they cannot be converted to a\n",
    "# pandas dataframe.\n",
    "sns.histplot(\n",
    "    all_experiments_scenario_results_df,\n",
    "    x=\"similarity\",\n",
    "    hue=\"experiment\",\n",
    ")"
   ]
  },
  {
   "cell_type": "markdown",
   "metadata": {},
   "source": [
    "### Extract high-level metadata from the scenario results"
   ]
  },
  {
   "cell_type": "code",
   "execution_count": null,
   "metadata": {},
   "outputs": [],
   "source": [
    "name_to_meta_stats = {\n",
    "    name: extract_meta_stats(scenarios_df)\n",
    "    for name, scenarios_df in name_to_scenario_results.items()\n",
    "}\n",
    "\n",
    "# Add a new column for the experiment name and then concatenate the data frames. This\n",
    "# makes it easy to compare the experiments as tables or in plots. Note that we use\n",
    "# `select` instead of `with_new_columns` since we want to ensure that the experiment\n",
    "# name becomes the first column.\n",
    "all_experiments_meta_stats_df = pl.concat(\n",
    "    df.select([pl.lit(name).alias(\"experiment\"), pl.all()])\n",
    "    for name, df in name_to_meta_stats.items()\n",
    ")\n",
    "all_experiments_meta_stats_df"
   ]
  },
  {
   "cell_type": "code",
   "execution_count": null,
   "metadata": {},
   "outputs": [],
   "source": [
    "# Also print the table as markdown so that it can be copied into a Github comment.\n",
    "with pl.Config() as cfg:\n",
    "    cfg.set_tbl_formatting(\"ASCII_MARKDOWN\")\n",
    "    print(all_experiments_meta_stats_df)"
   ]
  },
  {
   "cell_type": "markdown",
   "metadata": {},
   "source": [
    "### Extract aggregated statistics per scenario category"
   ]
  },
  {
   "cell_type": "code",
   "execution_count": null,
   "metadata": {},
   "outputs": [],
   "source": [
    "name_to_agg_results = {\n",
    "    name: extract_aggregated_stats(results) for name, results in name_to_results.items()\n",
    "}\n",
    "\n",
    "# Add a new column for the experiment name and then concatenate the data frames. This\n",
    "# makes it easy to create a bar chart comparing the individual categories for each\n",
    "# experiment.\n",
    "all_experiments_df = pl.concat(\n",
    "    df.with_columns(experiment=pl.lit(name)) for name, df in name_to_agg_results.items()\n",
    ")"
   ]
  },
  {
   "cell_type": "code",
   "execution_count": null,
   "metadata": {},
   "outputs": [],
   "source": [
    "ax = sns.barplot(all_experiments_df, x=\"similarity\", y=\"category\", hue=\"experiment\")\n",
    "# Move the legend above the plot.\n",
    "sns.move_legend(\n",
    "    ax, \"lower center\", bbox_to_anchor=(0.5, 1), ncol=3, title=None, frameon=False\n",
    ")"
   ]
  },
  {
   "cell_type": "code",
   "execution_count": null,
   "metadata": {},
   "outputs": [],
   "source": []
  }
 ],
 "metadata": {
  "kernelspec": {
   "display_name": "ToolSandbox",
   "language": "python",
   "name": "python3"
  },
  "language_info": {
   "codemirror_mode": {
    "name": "ipython",
    "version": 3
   },
   "file_extension": ".py",
   "mimetype": "text/x-python",
   "name": "python",
   "nbconvert_exporter": "python",
   "pygments_lexer": "ipython3",
   "version": "3.9.19"
  }
 },
 "nbformat": 4,
 "nbformat_minor": 2
}
